{
 "cells": [
  {
   "cell_type": "code",
   "execution_count": 7,
   "metadata": {},
   "outputs": [],
   "source": [
    "import numpy as np\n",
    "import pandas as pd\n",
    "import re\n",
    "import requests\n",
    "import os\n",
    "from newsapi import NewsApiClient\n",
    "from datetime import datetime, timedelta\n",
    "from dotenv import load_dotenv"
   ]
  },
  {
   "cell_type": "code",
   "execution_count": 4,
   "metadata": {},
   "outputs": [],
   "source": [
    "load_dotenv()\n",
    "newsapi = NewsApiClient(api_key=os.getenv(\"NEWS_API_KEY\"))"
   ]
  },
  {
   "cell_type": "code",
   "execution_count": 5,
   "metadata": {},
   "outputs": [],
   "source": [
    "current_date = datetime.now().date()\n",
    "date_before_a_week = current_date - timedelta(days=7)"
   ]
  },
  {
   "cell_type": "code",
   "execution_count": 6,
   "metadata": {},
   "outputs": [
    {
     "name": "stdout",
     "output_type": "stream",
     "text": [
      "Attempted murder charge after nurse stabbed\n",
      "A man has been charged with attempted murder after a nurse was stabbed at a hospital and left with life-changing injuries. \n",
      "Rumon Haque, 37, has also been charged with possession of a bladed article… [+643 chars]\n",
      "https://www.bbc.com/news/articles/c5yvrl0x8j9o\n",
      "Hospital worker suffers life changing injuries after being stabbed at work\n",
      "The staff member, aged in her 50s, was attacked at Royal Oldham Hospital\n",
      "A man has been arrested on suspicion of attempted murder after a female hospital worker was stabbed and left with life-changi… [+790 chars]\n",
      "https://www.bbc.com/news/articles/clyz2119v6ro\n",
      "Sara Sharif's family court judges worried over naming\n",
      "Judges who oversaw proceedings related to the care of Sara Sharif before she was murdered have \"serious concerns\" about the risks of being named, the Court of Appeal has been told.\n",
      "Mr Justice Willia… [+2836 chars]\n",
      "https://www.bbc.com/news/articles/cq6g2yy4jnvo\n",
      "A murder that shook British India and toppled a king\n",
      "Yahoo is using AI to generate takeaways from this article. This means the info may not always match what's in the article. Reporting mistakes helps us improve the experience.Generate Key Takeaways\n",
      "I… [+8080 chars]\n",
      "https://www.bbc.com/news/articles/c70e0drd480o?xtor=AL-72-%5Bpartner%5D-%5Byahoo.north.america%5D-%5Bheadline%5D-%5Bnews%5D-%5Bbizdev%5D-%5Bisapi%5D\n",
      "'She was a miracle baby': Elianne had dreams of law career, aunt tells BBC\n",
      "Marian Addow: \"The Elianne that we lost was very, very precious to our family\"\n",
      "Elianne Andam's aunt is so overcome with grief she says she still can't bring herself to walk past a mural of the murde… [+4017 chars]\n",
      "https://www.bbc.com/news/articles/ckg8gdjv216o\n",
      "\n",
      "\n",
      "Russian Disinformation Campaigns Eluded Meta's Efforts To Block Them\n",
      "A Russian organization linked to the Kremlin's covert influence campaigns posted more than 8,000 political advertisements on Facebook despite European and American restrictions barring companies from… [+2447 chars]\n",
      "https://tech.slashdot.org/story/25/01/17/2117210/russian-disinformation-campaigns-eluded-metas-efforts-to-block-them\n",
      "Israel and Hamas reach ceasefire deal\n",
      "A ceasefire deal has been reached between Israel and Hamas, more than 15 months into the conflict.\n",
      "The Qatari prime minister is expected to speak shortly in Doha on the deal, a Qatari official told … [+3615 chars]\n",
      "https://abcnews.go.com/International/ceasefire-deal-reached-israel-hamas/story?id=106870619\n",
      "US lists white supremacist Terrorgram network as ‘terrorist group’\n",
      "United States officials have imposed sanctions on an online network known as the Terrorgram Collective, designating it a terrorist group over its promotion of violent white supremacy around the world… [+2513 chars]\n",
      "https://www.aljazeera.com/news/2025/1/13/us-lists-white-supremacist-terrorgram-network-as-terrorist-group\n",
      "The Famed Ex-USS John F. Kennedy Casts Off On Its Final Voyage\n",
      "On a cold, dreary Thursday in Philadelphia, a smattering of people came to the waterfront to see the former Kitty Hawk class aircraft carrier U.S.S. John F. Kennedy (CV-67) begin its final journey. N… [+3953 chars]\n",
      "https://www.twz.com/sea/the-famed-ex-uss-john-f-kennedy-casts-off-on-its-final-voyage\n",
      "Traveling in the U.S. will change in 2025: You can’t fly from Miami without this document\n",
      "As 2025 approaches, a new mandatory requirement is coming for domestic travelers at Miami International Airport and the rest of the country.\n",
      "It had not been mandatory to present the document in ques… [+2433 chars]\n",
      "https://www.miamiherald.com/living/travel/article298591888.html\n",
      "\n",
      "\n"
     ]
    }
   ],
   "source": [
    "prompts = [\"Murder\", \"Terrorist\"]\n",
    "num_feed=5\n",
    "for prompt in prompts:\n",
    "  top = newsapi.get_everything(q=prompt,from_param=date_before_a_week,to=current_date,language='en')\n",
    "  for i in range(num_feed):\n",
    "    print(top['articles'][i]['title'])\n",
    "    print(top['articles'][i]['content'])\n",
    "    print(top['articles'][i]['url'])\n",
    "  print(\"\")\n",
    "  print(\"\")"
   ]
  },
  {
   "cell_type": "code",
   "execution_count": null,
   "metadata": {},
   "outputs": [],
   "source": []
  }
 ],
 "metadata": {
  "kernelspec": {
   "display_name": "Python 3",
   "language": "python",
   "name": "python3"
  },
  "language_info": {
   "codemirror_mode": {
    "name": "ipython",
    "version": 3
   },
   "file_extension": ".py",
   "mimetype": "text/x-python",
   "name": "python",
   "nbconvert_exporter": "python",
   "pygments_lexer": "ipython3",
   "version": "3.11.0"
  }
 },
 "nbformat": 4,
 "nbformat_minor": 2
}
