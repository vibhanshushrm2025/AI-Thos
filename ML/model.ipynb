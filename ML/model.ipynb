{
 "cells": [
  {
   "cell_type": "code",
   "execution_count": 1,
   "metadata": {},
   "outputs": [],
   "source": [
    "from dotenv import load_dotenv\n",
    "from together import Together\n",
    "import os\n",
    "import json\n",
    "load_dotenv()\n",
    "client = Together()"
   ]
  },
  {
   "cell_type": "code",
   "execution_count": 2,
   "metadata": {},
   "outputs": [],
   "source": [
    "response = client.chat.completions.create(\n",
    "    model=\"meta-llama/Llama-3.3-70B-Instruct-Turbo-Free\",\n",
    "    messages=[{\"role\": \"user\", \"content\": \"\"\"I am a recruiter and I have 2 conddidates to hire for a position. One of them is very poor and needs the job but lacks skills. The other one has the required skills but is rich. What should be done in this scenario? Always respond in JSON with \"response\" as key.\"\"\"}],\n",
    ")"
   ]
  },
  {
   "cell_type": "code",
   "execution_count": 3,
   "metadata": {},
   "outputs": [
    {
     "data": {
      "text/plain": [
       "\"In this scenario, the decision should be based on the requirements of the position and the needs of the organization. While it's understandable to want to help the poorer candidate, hiring someone who lacks the necessary skills could ultimately harm the organization and the candidate themselves. On the other hand, hiring the richer candidate who has the required skills would be a more practical decision, as they would be better equipped to perform the job duties. However, it's also worth considering other factors, such as the candidate's attitude, willingness to learn, and potential for growth. Ultimately, the decision should be based on who is the best fit for the role, regardless of their financial situation.\""
      ]
     },
     "execution_count": 3,
     "metadata": {},
     "output_type": "execute_result"
    }
   ],
   "source": [
    "dic = json.loads(response.choices[0].message.content.strip())\n",
    "dic['response']"
   ]
  },
  {
   "cell_type": "code",
   "execution_count": null,
   "metadata": {},
   "outputs": [],
   "source": []
  }
 ],
 "metadata": {
  "kernelspec": {
   "display_name": "Python 3",
   "language": "python",
   "name": "python3"
  },
  "language_info": {
   "codemirror_mode": {
    "name": "ipython",
    "version": 3
   },
   "file_extension": ".py",
   "mimetype": "text/x-python",
   "name": "python",
   "nbconvert_exporter": "python",
   "pygments_lexer": "ipython3",
   "version": "3.11.0"
  }
 },
 "nbformat": 4,
 "nbformat_minor": 2
}
